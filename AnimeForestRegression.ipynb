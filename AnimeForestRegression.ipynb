{
  "nbformat": 4,
  "nbformat_minor": 0,
  "metadata": {
    "colab": {
      "provenance": []
    },
    "kernelspec": {
      "name": "python3",
      "display_name": "Python 3"
    },
    "language_info": {
      "name": "python"
    }
  },
  "cells": [
    {
      "cell_type": "code",
      "execution_count": null,
      "metadata": {
        "id": "htc-uclc_yJx"
      },
      "outputs": [],
      "source": [
        "import pandas as pd\n",
        "from sklearn.model_selection import train_test_split\n",
        "from sklearn.metrics import confusion_matrix, f1_score, accuracy_score\n",
        "from sklearn.metrics import precision_score, recall_score\n",
        "from sklearn.ensemble import RandomForestRegressor\n",
        "from sklearn.metrics import mean_absolute_error\n",
        "from sklearn.metrics import mean_squared_error, r2_score\n",
        "import numpy as np\n",
        "import matplotlib.pyplot as plt\n",
        "from sklearn.preprocessing import LabelEncoder\n",
        "import matplotlib.pyplot as plt\n",
        "import seaborn as sns\n",
        "from sklearn.metrics import confusion_matrix\n",
        "from sklearn.model_selection import GridSearchCV\n"
      ]
    },
    {
      "cell_type": "code",
      "source": [
        "merged_manga = pd.read_csv('merged_manga.csv')"
      ],
      "metadata": {
        "id": "QefUc0PDAEI4"
      },
      "execution_count": null,
      "outputs": []
    },
    {
      "cell_type": "code",
      "source": [
        "merged_manga"
      ],
      "metadata": {
        "colab": {
          "base_uri": "https://localhost:8080/",
          "height": 599
        },
        "id": "i2rroV64yY7a",
        "outputId": "2e407041-4a51-48d3-cca4-30419057c84a"
      },
      "execution_count": null,
      "outputs": [
        {
          "output_type": "execute_result",
          "data": {
            "text/plain": [
              "     Unnamed: 0                       title  \\\n",
              "0             0                 Steins;Gate   \n",
              "1             1                 Steins;Gate   \n",
              "2             2                   One Piece   \n",
              "3             3                   One Piece   \n",
              "4             4   Kimi no Suizou wo Tabetai   \n",
              "..          ...                         ...   \n",
              "649         649             Akachan to Boku   \n",
              "650         650          DOLL: IC in a Doll   \n",
              "651         651            Penguin☆Brothers   \n",
              "652         652  Suzumiya Haruhi no Yuuutsu   \n",
              "653         653  The Bride of the Water God   \n",
              "\n",
              "                                             url_anime date_published_anime  \\\n",
              "0       https://myanimelist.net/anime/9253/Steins_Gate    2011-01 - 2011-01   \n",
              "1       https://myanimelist.net/anime/9253/Steins_Gate    2011-01 - 2011-01   \n",
              "2           https://myanimelist.net/anime/21/One_Piece              1999-01   \n",
              "3           https://myanimelist.net/anime/21/One_Piece              1999-01   \n",
              "4    https://myanimelist.net/anime/36098/Kimi_no_Su...    2018-01 - 2018-01   \n",
              "..                                                 ...                  ...   \n",
              "649                                                NaN                  NaN   \n",
              "650                                                NaN                  NaN   \n",
              "651                                                NaN                  NaN   \n",
              "652                                                NaN                  NaN   \n",
              "653                                                NaN                  NaN   \n",
              "\n",
              "     score_anime  rank_anime  members_anime anime_exists  \\\n",
              "0           9.07         3.0    112561201.0          yes   \n",
              "1           9.07         3.0    112561201.0          yes   \n",
              "2           8.72         1.0      2352301.0          yes   \n",
              "3           8.72         1.0      2352301.0          yes   \n",
              "4           8.55         5.0       965483.0          yes   \n",
              "..           ...         ...            ...          ...   \n",
              "649          NaN         NaN            NaN           no   \n",
              "650          NaN         NaN            NaN           no   \n",
              "651          NaN         NaN            NaN           no   \n",
              "652          NaN         NaN            NaN           no   \n",
              "653          NaN         NaN            NaN           no   \n",
              "\n",
              "                                                   url     date_published  \\\n",
              "0      https://myanimelist.net/manga/39859/Steins_Gate  2011-01 - 2012-01   \n",
              "1      https://myanimelist.net/manga/39859/Steins_Gate  2011-01 - 2012-01   \n",
              "2           https://myanimelist.net/manga/13/One_Piece            1997-01   \n",
              "3           https://myanimelist.net/manga/13/One_Piece            1997-01   \n",
              "4    https://myanimelist.net/manga/117077/Kimi_no_S...  2015-01 - 2015-01   \n",
              "..                                                 ...                ...   \n",
              "649   https://myanimelist.net/manga/76/Akachan_to_Boku  1991-01 - 1997-01   \n",
              "650  https://myanimelist.net/manga/298/DOLL__IC_in_...  2000-01 - 2002-01   \n",
              "651  https://myanimelist.net/manga/899/Penguin☆Brot...  1999-01 - 2001-01   \n",
              "652  https://myanimelist.net/manga/1253/Suzumiya_Ha...  2004-01 - 2004-01   \n",
              "653  https://myanimelist.net/manga/1268/The_Bride_o...  2007-01 - 2014-01   \n",
              "\n",
              "     score  rank  members  \n",
              "0     8.58     3   213037  \n",
              "1     8.58     3   213037  \n",
              "2     9.22     4   619021  \n",
              "3     9.22     4   619021  \n",
              "4     8.68     4   157521  \n",
              "..     ...   ...      ...  \n",
              "649   7.66     1   972604  \n",
              "650   7.66     2    22247  \n",
              "651   7.66     3    15587  \n",
              "652   7.66     4    43879  \n",
              "653   7.66     5   420053  \n",
              "\n",
              "[654 rows x 13 columns]"
            ],
            "text/html": [
              "\n",
              "  <div id=\"df-574568d8-906e-43e2-8885-b5320b3faf02\" class=\"colab-df-container\">\n",
              "    <div>\n",
              "<style scoped>\n",
              "    .dataframe tbody tr th:only-of-type {\n",
              "        vertical-align: middle;\n",
              "    }\n",
              "\n",
              "    .dataframe tbody tr th {\n",
              "        vertical-align: top;\n",
              "    }\n",
              "\n",
              "    .dataframe thead th {\n",
              "        text-align: right;\n",
              "    }\n",
              "</style>\n",
              "<table border=\"1\" class=\"dataframe\">\n",
              "  <thead>\n",
              "    <tr style=\"text-align: right;\">\n",
              "      <th></th>\n",
              "      <th>Unnamed: 0</th>\n",
              "      <th>title</th>\n",
              "      <th>url_anime</th>\n",
              "      <th>date_published_anime</th>\n",
              "      <th>score_anime</th>\n",
              "      <th>rank_anime</th>\n",
              "      <th>members_anime</th>\n",
              "      <th>anime_exists</th>\n",
              "      <th>url</th>\n",
              "      <th>date_published</th>\n",
              "      <th>score</th>\n",
              "      <th>rank</th>\n",
              "      <th>members</th>\n",
              "    </tr>\n",
              "  </thead>\n",
              "  <tbody>\n",
              "    <tr>\n",
              "      <th>0</th>\n",
              "      <td>0</td>\n",
              "      <td>Steins;Gate</td>\n",
              "      <td>https://myanimelist.net/anime/9253/Steins_Gate</td>\n",
              "      <td>2011-01 - 2011-01</td>\n",
              "      <td>9.07</td>\n",
              "      <td>3.0</td>\n",
              "      <td>112561201.0</td>\n",
              "      <td>yes</td>\n",
              "      <td>https://myanimelist.net/manga/39859/Steins_Gate</td>\n",
              "      <td>2011-01 - 2012-01</td>\n",
              "      <td>8.58</td>\n",
              "      <td>3</td>\n",
              "      <td>213037</td>\n",
              "    </tr>\n",
              "    <tr>\n",
              "      <th>1</th>\n",
              "      <td>1</td>\n",
              "      <td>Steins;Gate</td>\n",
              "      <td>https://myanimelist.net/anime/9253/Steins_Gate</td>\n",
              "      <td>2011-01 - 2011-01</td>\n",
              "      <td>9.07</td>\n",
              "      <td>3.0</td>\n",
              "      <td>112561201.0</td>\n",
              "      <td>yes</td>\n",
              "      <td>https://myanimelist.net/manga/39859/Steins_Gate</td>\n",
              "      <td>2011-01 - 2012-01</td>\n",
              "      <td>8.58</td>\n",
              "      <td>3</td>\n",
              "      <td>213037</td>\n",
              "    </tr>\n",
              "    <tr>\n",
              "      <th>2</th>\n",
              "      <td>2</td>\n",
              "      <td>One Piece</td>\n",
              "      <td>https://myanimelist.net/anime/21/One_Piece</td>\n",
              "      <td>1999-01</td>\n",
              "      <td>8.72</td>\n",
              "      <td>1.0</td>\n",
              "      <td>2352301.0</td>\n",
              "      <td>yes</td>\n",
              "      <td>https://myanimelist.net/manga/13/One_Piece</td>\n",
              "      <td>1997-01</td>\n",
              "      <td>9.22</td>\n",
              "      <td>4</td>\n",
              "      <td>619021</td>\n",
              "    </tr>\n",
              "    <tr>\n",
              "      <th>3</th>\n",
              "      <td>3</td>\n",
              "      <td>One Piece</td>\n",
              "      <td>https://myanimelist.net/anime/21/One_Piece</td>\n",
              "      <td>1999-01</td>\n",
              "      <td>8.72</td>\n",
              "      <td>1.0</td>\n",
              "      <td>2352301.0</td>\n",
              "      <td>yes</td>\n",
              "      <td>https://myanimelist.net/manga/13/One_Piece</td>\n",
              "      <td>1997-01</td>\n",
              "      <td>9.22</td>\n",
              "      <td>4</td>\n",
              "      <td>619021</td>\n",
              "    </tr>\n",
              "    <tr>\n",
              "      <th>4</th>\n",
              "      <td>4</td>\n",
              "      <td>Kimi no Suizou wo Tabetai</td>\n",
              "      <td>https://myanimelist.net/anime/36098/Kimi_no_Su...</td>\n",
              "      <td>2018-01 - 2018-01</td>\n",
              "      <td>8.55</td>\n",
              "      <td>5.0</td>\n",
              "      <td>965483.0</td>\n",
              "      <td>yes</td>\n",
              "      <td>https://myanimelist.net/manga/117077/Kimi_no_S...</td>\n",
              "      <td>2015-01 - 2015-01</td>\n",
              "      <td>8.68</td>\n",
              "      <td>4</td>\n",
              "      <td>157521</td>\n",
              "    </tr>\n",
              "    <tr>\n",
              "      <th>...</th>\n",
              "      <td>...</td>\n",
              "      <td>...</td>\n",
              "      <td>...</td>\n",
              "      <td>...</td>\n",
              "      <td>...</td>\n",
              "      <td>...</td>\n",
              "      <td>...</td>\n",
              "      <td>...</td>\n",
              "      <td>...</td>\n",
              "      <td>...</td>\n",
              "      <td>...</td>\n",
              "      <td>...</td>\n",
              "      <td>...</td>\n",
              "    </tr>\n",
              "    <tr>\n",
              "      <th>649</th>\n",
              "      <td>649</td>\n",
              "      <td>Akachan to Boku</td>\n",
              "      <td>NaN</td>\n",
              "      <td>NaN</td>\n",
              "      <td>NaN</td>\n",
              "      <td>NaN</td>\n",
              "      <td>NaN</td>\n",
              "      <td>no</td>\n",
              "      <td>https://myanimelist.net/manga/76/Akachan_to_Boku</td>\n",
              "      <td>1991-01 - 1997-01</td>\n",
              "      <td>7.66</td>\n",
              "      <td>1</td>\n",
              "      <td>972604</td>\n",
              "    </tr>\n",
              "    <tr>\n",
              "      <th>650</th>\n",
              "      <td>650</td>\n",
              "      <td>DOLL: IC in a Doll</td>\n",
              "      <td>NaN</td>\n",
              "      <td>NaN</td>\n",
              "      <td>NaN</td>\n",
              "      <td>NaN</td>\n",
              "      <td>NaN</td>\n",
              "      <td>no</td>\n",
              "      <td>https://myanimelist.net/manga/298/DOLL__IC_in_...</td>\n",
              "      <td>2000-01 - 2002-01</td>\n",
              "      <td>7.66</td>\n",
              "      <td>2</td>\n",
              "      <td>22247</td>\n",
              "    </tr>\n",
              "    <tr>\n",
              "      <th>651</th>\n",
              "      <td>651</td>\n",
              "      <td>Penguin☆Brothers</td>\n",
              "      <td>NaN</td>\n",
              "      <td>NaN</td>\n",
              "      <td>NaN</td>\n",
              "      <td>NaN</td>\n",
              "      <td>NaN</td>\n",
              "      <td>no</td>\n",
              "      <td>https://myanimelist.net/manga/899/Penguin☆Brot...</td>\n",
              "      <td>1999-01 - 2001-01</td>\n",
              "      <td>7.66</td>\n",
              "      <td>3</td>\n",
              "      <td>15587</td>\n",
              "    </tr>\n",
              "    <tr>\n",
              "      <th>652</th>\n",
              "      <td>652</td>\n",
              "      <td>Suzumiya Haruhi no Yuuutsu</td>\n",
              "      <td>NaN</td>\n",
              "      <td>NaN</td>\n",
              "      <td>NaN</td>\n",
              "      <td>NaN</td>\n",
              "      <td>NaN</td>\n",
              "      <td>no</td>\n",
              "      <td>https://myanimelist.net/manga/1253/Suzumiya_Ha...</td>\n",
              "      <td>2004-01 - 2004-01</td>\n",
              "      <td>7.66</td>\n",
              "      <td>4</td>\n",
              "      <td>43879</td>\n",
              "    </tr>\n",
              "    <tr>\n",
              "      <th>653</th>\n",
              "      <td>653</td>\n",
              "      <td>The Bride of the Water God</td>\n",
              "      <td>NaN</td>\n",
              "      <td>NaN</td>\n",
              "      <td>NaN</td>\n",
              "      <td>NaN</td>\n",
              "      <td>NaN</td>\n",
              "      <td>no</td>\n",
              "      <td>https://myanimelist.net/manga/1268/The_Bride_o...</td>\n",
              "      <td>2007-01 - 2014-01</td>\n",
              "      <td>7.66</td>\n",
              "      <td>5</td>\n",
              "      <td>420053</td>\n",
              "    </tr>\n",
              "  </tbody>\n",
              "</table>\n",
              "<p>654 rows × 13 columns</p>\n",
              "</div>\n",
              "    <div class=\"colab-df-buttons\">\n",
              "\n",
              "  <div class=\"colab-df-container\">\n",
              "    <button class=\"colab-df-convert\" onclick=\"convertToInteractive('df-574568d8-906e-43e2-8885-b5320b3faf02')\"\n",
              "            title=\"Convert this dataframe to an interactive table.\"\n",
              "            style=\"display:none;\">\n",
              "\n",
              "  <svg xmlns=\"http://www.w3.org/2000/svg\" height=\"24px\" viewBox=\"0 -960 960 960\">\n",
              "    <path d=\"M120-120v-720h720v720H120Zm60-500h600v-160H180v160Zm220 220h160v-160H400v160Zm0 220h160v-160H400v160ZM180-400h160v-160H180v160Zm440 0h160v-160H620v160ZM180-180h160v-160H180v160Zm440 0h160v-160H620v160Z\"/>\n",
              "  </svg>\n",
              "    </button>\n",
              "\n",
              "  <style>\n",
              "    .colab-df-container {\n",
              "      display:flex;\n",
              "      gap: 12px;\n",
              "    }\n",
              "\n",
              "    .colab-df-convert {\n",
              "      background-color: #E8F0FE;\n",
              "      border: none;\n",
              "      border-radius: 50%;\n",
              "      cursor: pointer;\n",
              "      display: none;\n",
              "      fill: #1967D2;\n",
              "      height: 32px;\n",
              "      padding: 0 0 0 0;\n",
              "      width: 32px;\n",
              "    }\n",
              "\n",
              "    .colab-df-convert:hover {\n",
              "      background-color: #E2EBFA;\n",
              "      box-shadow: 0px 1px 2px rgba(60, 64, 67, 0.3), 0px 1px 3px 1px rgba(60, 64, 67, 0.15);\n",
              "      fill: #174EA6;\n",
              "    }\n",
              "\n",
              "    .colab-df-buttons div {\n",
              "      margin-bottom: 4px;\n",
              "    }\n",
              "\n",
              "    [theme=dark] .colab-df-convert {\n",
              "      background-color: #3B4455;\n",
              "      fill: #D2E3FC;\n",
              "    }\n",
              "\n",
              "    [theme=dark] .colab-df-convert:hover {\n",
              "      background-color: #434B5C;\n",
              "      box-shadow: 0px 1px 3px 1px rgba(0, 0, 0, 0.15);\n",
              "      filter: drop-shadow(0px 1px 2px rgba(0, 0, 0, 0.3));\n",
              "      fill: #FFFFFF;\n",
              "    }\n",
              "  </style>\n",
              "\n",
              "    <script>\n",
              "      const buttonEl =\n",
              "        document.querySelector('#df-574568d8-906e-43e2-8885-b5320b3faf02 button.colab-df-convert');\n",
              "      buttonEl.style.display =\n",
              "        google.colab.kernel.accessAllowed ? 'block' : 'none';\n",
              "\n",
              "      async function convertToInteractive(key) {\n",
              "        const element = document.querySelector('#df-574568d8-906e-43e2-8885-b5320b3faf02');\n",
              "        const dataTable =\n",
              "          await google.colab.kernel.invokeFunction('convertToInteractive',\n",
              "                                                    [key], {});\n",
              "        if (!dataTable) return;\n",
              "\n",
              "        const docLinkHtml = 'Like what you see? Visit the ' +\n",
              "          '<a target=\"_blank\" href=https://colab.research.google.com/notebooks/data_table.ipynb>data table notebook</a>'\n",
              "          + ' to learn more about interactive tables.';\n",
              "        element.innerHTML = '';\n",
              "        dataTable['output_type'] = 'display_data';\n",
              "        await google.colab.output.renderOutput(dataTable, element);\n",
              "        const docLink = document.createElement('div');\n",
              "        docLink.innerHTML = docLinkHtml;\n",
              "        element.appendChild(docLink);\n",
              "      }\n",
              "    </script>\n",
              "  </div>\n",
              "\n",
              "\n",
              "<div id=\"df-bd7bcc29-250a-4c4a-8788-dbf931800337\">\n",
              "  <button class=\"colab-df-quickchart\" onclick=\"quickchart('df-bd7bcc29-250a-4c4a-8788-dbf931800337')\"\n",
              "            title=\"Suggest charts\"\n",
              "            style=\"display:none;\">\n",
              "\n",
              "<svg xmlns=\"http://www.w3.org/2000/svg\" height=\"24px\"viewBox=\"0 0 24 24\"\n",
              "     width=\"24px\">\n",
              "    <g>\n",
              "        <path d=\"M19 3H5c-1.1 0-2 .9-2 2v14c0 1.1.9 2 2 2h14c1.1 0 2-.9 2-2V5c0-1.1-.9-2-2-2zM9 17H7v-7h2v7zm4 0h-2V7h2v10zm4 0h-2v-4h2v4z\"/>\n",
              "    </g>\n",
              "</svg>\n",
              "  </button>\n",
              "\n",
              "<style>\n",
              "  .colab-df-quickchart {\n",
              "      --bg-color: #E8F0FE;\n",
              "      --fill-color: #1967D2;\n",
              "      --hover-bg-color: #E2EBFA;\n",
              "      --hover-fill-color: #174EA6;\n",
              "      --disabled-fill-color: #AAA;\n",
              "      --disabled-bg-color: #DDD;\n",
              "  }\n",
              "\n",
              "  [theme=dark] .colab-df-quickchart {\n",
              "      --bg-color: #3B4455;\n",
              "      --fill-color: #D2E3FC;\n",
              "      --hover-bg-color: #434B5C;\n",
              "      --hover-fill-color: #FFFFFF;\n",
              "      --disabled-bg-color: #3B4455;\n",
              "      --disabled-fill-color: #666;\n",
              "  }\n",
              "\n",
              "  .colab-df-quickchart {\n",
              "    background-color: var(--bg-color);\n",
              "    border: none;\n",
              "    border-radius: 50%;\n",
              "    cursor: pointer;\n",
              "    display: none;\n",
              "    fill: var(--fill-color);\n",
              "    height: 32px;\n",
              "    padding: 0;\n",
              "    width: 32px;\n",
              "  }\n",
              "\n",
              "  .colab-df-quickchart:hover {\n",
              "    background-color: var(--hover-bg-color);\n",
              "    box-shadow: 0 1px 2px rgba(60, 64, 67, 0.3), 0 1px 3px 1px rgba(60, 64, 67, 0.15);\n",
              "    fill: var(--button-hover-fill-color);\n",
              "  }\n",
              "\n",
              "  .colab-df-quickchart-complete:disabled,\n",
              "  .colab-df-quickchart-complete:disabled:hover {\n",
              "    background-color: var(--disabled-bg-color);\n",
              "    fill: var(--disabled-fill-color);\n",
              "    box-shadow: none;\n",
              "  }\n",
              "\n",
              "  .colab-df-spinner {\n",
              "    border: 2px solid var(--fill-color);\n",
              "    border-color: transparent;\n",
              "    border-bottom-color: var(--fill-color);\n",
              "    animation:\n",
              "      spin 1s steps(1) infinite;\n",
              "  }\n",
              "\n",
              "  @keyframes spin {\n",
              "    0% {\n",
              "      border-color: transparent;\n",
              "      border-bottom-color: var(--fill-color);\n",
              "      border-left-color: var(--fill-color);\n",
              "    }\n",
              "    20% {\n",
              "      border-color: transparent;\n",
              "      border-left-color: var(--fill-color);\n",
              "      border-top-color: var(--fill-color);\n",
              "    }\n",
              "    30% {\n",
              "      border-color: transparent;\n",
              "      border-left-color: var(--fill-color);\n",
              "      border-top-color: var(--fill-color);\n",
              "      border-right-color: var(--fill-color);\n",
              "    }\n",
              "    40% {\n",
              "      border-color: transparent;\n",
              "      border-right-color: var(--fill-color);\n",
              "      border-top-color: var(--fill-color);\n",
              "    }\n",
              "    60% {\n",
              "      border-color: transparent;\n",
              "      border-right-color: var(--fill-color);\n",
              "    }\n",
              "    80% {\n",
              "      border-color: transparent;\n",
              "      border-right-color: var(--fill-color);\n",
              "      border-bottom-color: var(--fill-color);\n",
              "    }\n",
              "    90% {\n",
              "      border-color: transparent;\n",
              "      border-bottom-color: var(--fill-color);\n",
              "    }\n",
              "  }\n",
              "</style>\n",
              "\n",
              "  <script>\n",
              "    async function quickchart(key) {\n",
              "      const quickchartButtonEl =\n",
              "        document.querySelector('#' + key + ' button');\n",
              "      quickchartButtonEl.disabled = true;  // To prevent multiple clicks.\n",
              "      quickchartButtonEl.classList.add('colab-df-spinner');\n",
              "      try {\n",
              "        const charts = await google.colab.kernel.invokeFunction(\n",
              "            'suggestCharts', [key], {});\n",
              "      } catch (error) {\n",
              "        console.error('Error during call to suggestCharts:', error);\n",
              "      }\n",
              "      quickchartButtonEl.classList.remove('colab-df-spinner');\n",
              "      quickchartButtonEl.classList.add('colab-df-quickchart-complete');\n",
              "    }\n",
              "    (() => {\n",
              "      let quickchartButtonEl =\n",
              "        document.querySelector('#df-bd7bcc29-250a-4c4a-8788-dbf931800337 button');\n",
              "      quickchartButtonEl.style.display =\n",
              "        google.colab.kernel.accessAllowed ? 'block' : 'none';\n",
              "    })();\n",
              "  </script>\n",
              "</div>\n",
              "    </div>\n",
              "  </div>\n"
            ],
            "application/vnd.google.colaboratory.intrinsic+json": {
              "type": "dataframe",
              "variable_name": "merged_manga",
              "summary": "{\n  \"name\": \"merged_manga\",\n  \"rows\": 654,\n  \"fields\": [\n    {\n      \"column\": \"Unnamed: 0\",\n      \"properties\": {\n        \"dtype\": \"number\",\n        \"std\": 188,\n        \"min\": 0,\n        \"max\": 653,\n        \"num_unique_values\": 654,\n        \"samples\": [\n          333,\n          78,\n          503\n        ],\n        \"semantic_type\": \"\",\n        \"description\": \"\"\n      }\n    },\n    {\n      \"column\": \"title\",\n      \"properties\": {\n        \"dtype\": \"string\",\n        \"num_unique_values\": 596,\n        \"samples\": [\n          \"A Stepmother's M\\u00e4rchen\",\n          \"Tobaku Haouden Zero\",\n          \"Grappler Baki\"\n        ],\n        \"semantic_type\": \"\",\n        \"description\": \"\"\n      }\n    },\n    {\n      \"column\": \"url_anime\",\n      \"properties\": {\n        \"dtype\": \"category\",\n        \"num_unique_values\": 45,\n        \"samples\": [\n          \"https://myanimelist.net/anime/5530/Pandora_Hearts\",\n          \"https://myanimelist.net/anime/33926/Quanzhi_Gaoshou\",\n          \"https://myanimelist.net/anime/388/Capeta\"\n        ],\n        \"semantic_type\": \"\",\n        \"description\": \"\"\n      }\n    },\n    {\n      \"column\": \"date_published_anime\",\n      \"properties\": {\n        \"dtype\": \"category\",\n        \"num_unique_values\": 30,\n        \"samples\": [\n          \"2010-01 - 2010-01\",\n          \"2023-01 - 2023-01\",\n          \"2015-01 - 2015-01\"\n        ],\n        \"semantic_type\": \"\",\n        \"description\": \"\"\n      }\n    },\n    {\n      \"column\": \"score_anime\",\n      \"properties\": {\n        \"dtype\": \"number\",\n        \"std\": 0.36026782787451134,\n        \"min\": 7.48,\n        \"max\": 9.07,\n        \"num_unique_values\": 33,\n        \"samples\": [\n          7.5,\n          8.02,\n          7.67\n        ],\n        \"semantic_type\": \"\",\n        \"description\": \"\"\n      }\n    },\n    {\n      \"column\": \"rank_anime\",\n      \"properties\": {\n        \"dtype\": \"number\",\n        \"std\": 1.3974516794946918,\n        \"min\": 1.0,\n        \"max\": 5.0,\n        \"num_unique_values\": 5,\n        \"samples\": [\n          1.0,\n          4.0,\n          5.0\n        ],\n        \"semantic_type\": \"\",\n        \"description\": \"\"\n      }\n    },\n    {\n      \"column\": \"members_anime\",\n      \"properties\": {\n        \"dtype\": \"number\",\n        \"std\": 41588050.04087015,\n        \"min\": 70788.0,\n        \"max\": 191588921.0,\n        \"num_unique_values\": 45,\n        \"samples\": [\n          431873.0,\n          369369.0,\n          627578.0\n        ],\n        \"semantic_type\": \"\",\n        \"description\": \"\"\n      }\n    },\n    {\n      \"column\": \"anime_exists\",\n      \"properties\": {\n        \"dtype\": \"category\",\n        \"num_unique_values\": 2,\n        \"samples\": [\n          \"no\",\n          \"yes\"\n        ],\n        \"semantic_type\": \"\",\n        \"description\": \"\"\n      }\n    },\n    {\n      \"column\": \"url\",\n      \"properties\": {\n        \"dtype\": \"string\",\n        \"num_unique_values\": 600,\n        \"samples\": [\n          \"https://myanimelist.net/manga/138673/Look_Back\",\n          \"https://myanimelist.net/manga/157888/Revenge_of_the_Baskerville_Bloodhound\"\n        ],\n        \"semantic_type\": \"\",\n        \"description\": \"\"\n      }\n    },\n    {\n      \"column\": \"date_published\",\n      \"properties\": {\n        \"dtype\": \"category\",\n        \"num_unique_values\": 285,\n        \"samples\": [\n          \"2003-01\",\n          \"2022-01 - 2022-01\"\n        ],\n        \"semantic_type\": \"\",\n        \"description\": \"\"\n      }\n    },\n    {\n      \"column\": \"score\",\n      \"properties\": {\n        \"dtype\": \"number\",\n        \"std\": 0.3307898469000286,\n        \"min\": 7.66,\n        \"max\": 9.47,\n        \"num_unique_values\": 85,\n        \"samples\": [\n          7.76,\n          8.58\n        ],\n        \"semantic_type\": \"\",\n        \"description\": \"\"\n      }\n    },\n    {\n      \"column\": \"rank\",\n      \"properties\": {\n        \"dtype\": \"number\",\n        \"std\": 1,\n        \"min\": 1,\n        \"max\": 5,\n        \"num_unique_values\": 5,\n        \"samples\": [\n          4,\n          2\n        ],\n        \"semantic_type\": \"\",\n        \"description\": \"\"\n      }\n    },\n    {\n      \"column\": \"members\",\n      \"properties\": {\n        \"dtype\": \"number\",\n        \"std\": 286881,\n        \"min\": 279,\n        \"max\": 997934,\n        \"num_unique_values\": 600,\n        \"samples\": [\n          191582,\n          12741\n        ],\n        \"semantic_type\": \"\",\n        \"description\": \"\"\n      }\n    }\n  ]\n}"
            }
          },
          "metadata": {},
          "execution_count": 143
        }
      ]
    },
    {
      "cell_type": "code",
      "source": [
        "label_encoder = LabelEncoder()\n",
        "merged_manga['anime_exists_encoded'] = label_encoder.fit_transform(merged_manga['anime_exists'])"
      ],
      "metadata": {
        "id": "8bs4pnNBzLO9"
      },
      "execution_count": null,
      "outputs": []
    },
    {
      "cell_type": "code",
      "source": [
        "X = merged_manga[['score', 'rank', 'members']]\n",
        "y = merged_manga['anime_exists_encoded']"
      ],
      "metadata": {
        "id": "B8DEjgZKAdrG"
      },
      "execution_count": null,
      "outputs": []
    },
    {
      "cell_type": "code",
      "source": [
        "X_train, X_test, y_train, y_test = train_test_split(X, y, test_size=0.2, random_state=42)"
      ],
      "metadata": {
        "id": "AzXx6SSDAiSK"
      },
      "execution_count": null,
      "outputs": []
    },
    {
      "cell_type": "code",
      "source": [
        "rf_model = RandomForestRegressor(n_estimators=100, random_state=42)\n",
        "rf_model.fit(X_train, y_train)"
      ],
      "metadata": {
        "colab": {
          "base_uri": "https://localhost:8080/",
          "height": 74
        },
        "id": "hStlVJCHAmwE",
        "outputId": "c620e22d-72e6-44fb-c04b-427e25f08601"
      },
      "execution_count": null,
      "outputs": [
        {
          "output_type": "execute_result",
          "data": {
            "text/plain": [
              "RandomForestRegressor(random_state=42)"
            ],
            "text/html": [
              "<style>#sk-container-id-7 {color: black;background-color: white;}#sk-container-id-7 pre{padding: 0;}#sk-container-id-7 div.sk-toggleable {background-color: white;}#sk-container-id-7 label.sk-toggleable__label {cursor: pointer;display: block;width: 100%;margin-bottom: 0;padding: 0.3em;box-sizing: border-box;text-align: center;}#sk-container-id-7 label.sk-toggleable__label-arrow:before {content: \"▸\";float: left;margin-right: 0.25em;color: #696969;}#sk-container-id-7 label.sk-toggleable__label-arrow:hover:before {color: black;}#sk-container-id-7 div.sk-estimator:hover label.sk-toggleable__label-arrow:before {color: black;}#sk-container-id-7 div.sk-toggleable__content {max-height: 0;max-width: 0;overflow: hidden;text-align: left;background-color: #f0f8ff;}#sk-container-id-7 div.sk-toggleable__content pre {margin: 0.2em;color: black;border-radius: 0.25em;background-color: #f0f8ff;}#sk-container-id-7 input.sk-toggleable__control:checked~div.sk-toggleable__content {max-height: 200px;max-width: 100%;overflow: auto;}#sk-container-id-7 input.sk-toggleable__control:checked~label.sk-toggleable__label-arrow:before {content: \"▾\";}#sk-container-id-7 div.sk-estimator input.sk-toggleable__control:checked~label.sk-toggleable__label {background-color: #d4ebff;}#sk-container-id-7 div.sk-label input.sk-toggleable__control:checked~label.sk-toggleable__label {background-color: #d4ebff;}#sk-container-id-7 input.sk-hidden--visually {border: 0;clip: rect(1px 1px 1px 1px);clip: rect(1px, 1px, 1px, 1px);height: 1px;margin: -1px;overflow: hidden;padding: 0;position: absolute;width: 1px;}#sk-container-id-7 div.sk-estimator {font-family: monospace;background-color: #f0f8ff;border: 1px dotted black;border-radius: 0.25em;box-sizing: border-box;margin-bottom: 0.5em;}#sk-container-id-7 div.sk-estimator:hover {background-color: #d4ebff;}#sk-container-id-7 div.sk-parallel-item::after {content: \"\";width: 100%;border-bottom: 1px solid gray;flex-grow: 1;}#sk-container-id-7 div.sk-label:hover label.sk-toggleable__label {background-color: #d4ebff;}#sk-container-id-7 div.sk-serial::before {content: \"\";position: absolute;border-left: 1px solid gray;box-sizing: border-box;top: 0;bottom: 0;left: 50%;z-index: 0;}#sk-container-id-7 div.sk-serial {display: flex;flex-direction: column;align-items: center;background-color: white;padding-right: 0.2em;padding-left: 0.2em;position: relative;}#sk-container-id-7 div.sk-item {position: relative;z-index: 1;}#sk-container-id-7 div.sk-parallel {display: flex;align-items: stretch;justify-content: center;background-color: white;position: relative;}#sk-container-id-7 div.sk-item::before, #sk-container-id-7 div.sk-parallel-item::before {content: \"\";position: absolute;border-left: 1px solid gray;box-sizing: border-box;top: 0;bottom: 0;left: 50%;z-index: -1;}#sk-container-id-7 div.sk-parallel-item {display: flex;flex-direction: column;z-index: 1;position: relative;background-color: white;}#sk-container-id-7 div.sk-parallel-item:first-child::after {align-self: flex-end;width: 50%;}#sk-container-id-7 div.sk-parallel-item:last-child::after {align-self: flex-start;width: 50%;}#sk-container-id-7 div.sk-parallel-item:only-child::after {width: 0;}#sk-container-id-7 div.sk-dashed-wrapped {border: 1px dashed gray;margin: 0 0.4em 0.5em 0.4em;box-sizing: border-box;padding-bottom: 0.4em;background-color: white;}#sk-container-id-7 div.sk-label label {font-family: monospace;font-weight: bold;display: inline-block;line-height: 1.2em;}#sk-container-id-7 div.sk-label-container {text-align: center;}#sk-container-id-7 div.sk-container {/* jupyter's `normalize.less` sets `[hidden] { display: none; }` but bootstrap.min.css set `[hidden] { display: none !important; }` so we also need the `!important` here to be able to override the default hidden behavior on the sphinx rendered scikit-learn.org. See: https://github.com/scikit-learn/scikit-learn/issues/21755 */display: inline-block !important;position: relative;}#sk-container-id-7 div.sk-text-repr-fallback {display: none;}</style><div id=\"sk-container-id-7\" class=\"sk-top-container\"><div class=\"sk-text-repr-fallback\"><pre>RandomForestRegressor(random_state=42)</pre><b>In a Jupyter environment, please rerun this cell to show the HTML representation or trust the notebook. <br />On GitHub, the HTML representation is unable to render, please try loading this page with nbviewer.org.</b></div><div class=\"sk-container\" hidden><div class=\"sk-item\"><div class=\"sk-estimator sk-toggleable\"><input class=\"sk-toggleable__control sk-hidden--visually\" id=\"sk-estimator-id-7\" type=\"checkbox\" checked><label for=\"sk-estimator-id-7\" class=\"sk-toggleable__label sk-toggleable__label-arrow\">RandomForestRegressor</label><div class=\"sk-toggleable__content\"><pre>RandomForestRegressor(random_state=42)</pre></div></div></div></div></div>"
            ]
          },
          "metadata": {},
          "execution_count": 147
        }
      ]
    },
    {
      "cell_type": "code",
      "source": [
        "y_pred = rf_model.predict(X_test)"
      ],
      "metadata": {
        "id": "nKsrM1jKArAJ"
      },
      "execution_count": null,
      "outputs": []
    },
    {
      "cell_type": "code",
      "source": [
        "mae = mean_absolute_error(y_test, y_pred)\n",
        "print(\"Mean Absolute Error:\", mae)\n",
        "\n",
        "#not great for binary values"
      ],
      "metadata": {
        "colab": {
          "base_uri": "https://localhost:8080/"
        },
        "id": "DvU0BUV2AuyJ",
        "outputId": "8afb6ee8-a61b-463d-faff-68322d4423ff"
      },
      "execution_count": null,
      "outputs": [
        {
          "output_type": "stream",
          "name": "stdout",
          "text": [
            "Mean Absolute Error: 0.16114503816793893\n"
          ]
        }
      ]
    },
    {
      "cell_type": "code",
      "source": [
        "feature_importance = pd.Series(rf_model.feature_importances_, index=X.columns)\n",
        "\n",
        "top_features = feature_importance.nlargest(10)\n",
        "top_features.plot(kind='barh', color='purple')\n",
        "\n",
        "plt.title('Feature Importance', fontsize=18)\n",
        "plt.xlabel('Importance', fontsize=14)\n",
        "plt.ylabel('Feature', fontsize=14)\n",
        "plt.xticks(fontsize=12)\n",
        "plt.yticks(fontsize=12)\n",
        "plt.show()\n"
      ],
      "metadata": {
        "colab": {
          "base_uri": "https://localhost:8080/",
          "height": 489
        },
        "id": "VSXivgDltXVn",
        "outputId": "51695460-13e2-4cca-95f3-39d479e89c93"
      },
      "execution_count": null,
      "outputs": [
        {
          "output_type": "display_data",
          "data": {
            "text/plain": [
              "<Figure size 640x480 with 1 Axes>"
            ],
            "image/png": "[encoded data removed]"
          },
          "metadata": {}
        }
      ]
    },
    {
      "cell_type": "code",
      "source": [
        "param_grid = {\n",
        "    'n_estimators': [100, 200, 300],\n",
        "    'max_depth': [None, 10, 20],\n",
        "    'min_samples_split': [2, 5, 10],\n",
        "    'min_samples_leaf': [1, 2, 4]\n",
        "}\n",
        "grid_search = GridSearchCV(estimator=RandomForestRegressor(random_state=42),\n",
        "                           param_grid=param_grid,\n",
        "                           cv=5,\n",
        "                           scoring='neg_mean_absolute_error',\n",
        "                           n_jobs=-1)\n",
        "grid_search.fit(X_train, y_train)\n",
        "best_params = grid_search.best_params_\n",
        "print(\"Best Parameters:\", best_params)"
      ],
      "metadata": {
        "colab": {
          "base_uri": "https://localhost:8080/"
        },
        "id": "xieevmehA3j-",
        "outputId": "435b6181-6c0f-4a5f-9599-53391728d4f1"
      },
      "execution_count": null,
      "outputs": [
        {
          "output_type": "stream",
          "name": "stdout",
          "text": [
            "Best Parameters: {'max_depth': None, 'min_samples_leaf': 1, 'min_samples_split': 2, 'n_estimators': 100}\n"
          ]
        }
      ]
    },
    {
      "cell_type": "code",
      "source": [
        "# RandomForestRegressor with best parameters\n",
        "best_rf_model = RandomForestRegressor(n_estimators=100,\n",
        "                                      max_depth=None,\n",
        "                                      min_samples_split=2,\n",
        "                                      min_samples_leaf=1,\n",
        "                                      random_state=42)\n",
        "\n",
        "best_rf_model.fit(X_train, y_train)\n",
        "\n",
        "y_pred = best_rf_model.predict(X_test)\n",
        "\n",
        "from sklearn.metrics import mean_absolute_error\n",
        "mae = mean_absolute_error(y_test, y_pred)\n",
        "print(\"Mean Absolute Error:\", mae)\n"
      ],
      "metadata": {
        "colab": {
          "base_uri": "https://localhost:8080/"
        },
        "id": "R6-iWx-t0ysG",
        "outputId": "146135cb-1549-40cb-d0ce-09b496316a31"
      },
      "execution_count": null,
      "outputs": [
        {
          "output_type": "stream",
          "name": "stdout",
          "text": [
            "Mean Absolute Error: 0.16114503816793893\n"
          ]
        }
      ]
    },
    {
      "cell_type": "code",
      "source": [
        "threshold = 0.5\n",
        "\n",
        "binary_predictions = (val_predictions >= threshold).astype(int)\n",
        "\n",
        "\n",
        "val_predictions_df = pd.DataFrame({'Predicted_Values': binary_predictions})\n",
        "\n",
        "print(val_predictions_df)\n"
      ],
      "metadata": {
        "colab": {
          "base_uri": "https://localhost:8080/"
        },
        "id": "V_t-6DmWfoiA",
        "outputId": "5683bcda-a765-467e-83a6-68add8528312"
      },
      "execution_count": null,
      "outputs": [
        {
          "output_type": "stream",
          "name": "stdout",
          "text": [
            "     Predicted_Values\n",
            "0                   0\n",
            "1                   1\n",
            "2                   0\n",
            "3                   0\n",
            "4                   0\n",
            "..                ...\n",
            "126                 0\n",
            "127                 0\n",
            "128                 0\n",
            "129                 1\n",
            "130                 0\n",
            "\n",
            "[131 rows x 1 columns]\n"
          ]
        }
      ]
    },
    {
      "cell_type": "code",
      "source": [
        "#Accuracy and Confusion matrix\n",
        "y_true = y_test\n",
        "\n",
        "binary_predictions = val_predictions_df['Predicted_Values']\n",
        "\n",
        "accuracy = accuracy_score(y_true, binary_predictions)\n",
        "print(f'Accuracy: {accuracy:.4f}')\n",
        "\n",
        "cm = confusion_matrix(y_true, binary_predictions)\n",
        "print('Confusion Matrix:')\n",
        "print(cm)\n"
      ],
      "metadata": {
        "colab": {
          "base_uri": "https://localhost:8080/"
        },
        "id": "zfR8YiCWf3YZ",
        "outputId": "f930184f-e758-4a4a-d6c9-d0adf17158d4"
      },
      "execution_count": null,
      "outputs": [
        {
          "output_type": "stream",
          "name": "stdout",
          "text": [
            "Accuracy: 0.9313\n",
            "Confusion Matrix:\n",
            "[[101   3]\n",
            " [  6  21]]\n"
          ]
        }
      ]
    },
    {
      "cell_type": "code",
      "source": [
        "# Calculating precision, recall, and F1-score\n",
        "precision = precision_score(y_test, binary_predictions)\n",
        "recall = recall_score(y_test, binary_predictions)\n",
        "f1 = f1_score(y_test, binary_predictions)\n",
        "\n",
        "print(f'Precision: {precision:.4f}')\n",
        "print(f'Recall: {recall:.4f}')\n",
        "print(f'F1-score: {f1:.4f}')"
      ],
      "metadata": {
        "colab": {
          "base_uri": "https://localhost:8080/"
        },
        "id": "1aLIfPqSohP7",
        "outputId": "7c3e6af1-90f8-487b-996b-6e77d3d48fb7"
      },
      "execution_count": null,
      "outputs": [
        {
          "output_type": "stream",
          "name": "stdout",
          "text": [
            "Precision: 0.8750\n",
            "Recall: 0.7778\n",
            "F1-score: 0.8235\n"
          ]
        }
      ]
    },
    {
      "cell_type": "code",
      "source": [
        "#Pretty Confusion Matrix\n",
        "cm = confusion_matrix(y_true, binary_predictions)\n",
        "\n",
        "class_names = ['Yes', 'No']\n",
        "\n",
        "plt.figure(figsize=(8, 6))\n",
        "sns.set(font_scale=1.4)\n",
        "sns.heatmap(cm, annot=True, fmt='d', cmap='tab20b', cbar=False,\n",
        "            annot_kws={'size': 16, 'weight': 'bold'},\n",
        "            xticklabels=class_names, yticklabels=class_names)\n",
        "plt.xlabel('Predicted Label', fontsize=16)\n",
        "plt.ylabel('True Label', fontsize=16)\n",
        "plt.title('Confusion Matrix', fontsize=18)\n",
        "plt.xticks(fontsize=14)\n",
        "plt.yticks(fontsize=14)\n",
        "plt.show()\n"
      ],
      "metadata": {
        "colab": {
          "base_uri": "https://localhost:8080/",
          "height": 584
        },
        "id": "MLjgeV-GgzGK",
        "outputId": "68929e65-0a60-4da6-9673-74a6c35c7da2"
      },
      "execution_count": null,
      "outputs": [
        {
          "output_type": "display_data",
          "data": {
            "text/plain": [
              "<Figure size 800x600 with 1 Axes>"
            ],
            "image/png": "[encoded data removed]"
          },
          "metadata": {}
        }
      ]
    },
    {
      "cell_type": "code",
      "source": [
        "\n",
        "# Define the metrics and their corresponding values\n",
        "metrics = ['Precision', 'Recall', 'F1-score', 'Accuracy']\n",
        "values = [0.8750, 0.7778, 0.8235, 0.9313]\n",
        "\n",
        "# Plotting the metrics using a bar chart\n",
        "plt.figure(figsize=(10, 6))\n",
        "plt.bar(metrics, values, color=['pink', 'cornflowerblue', 'plum', 'purple'])\n",
        "plt.title('Performance Metrics', fontsize=18)\n",
        "plt.xlabel('Metrics', fontsize=14)\n",
        "plt.ylabel('Values', fontsize=14)\n",
        "\n",
        "# Annotating each bar with its value\n",
        "for i, v in enumerate(values):\n",
        "    plt.text(i, v + 0.01, f'{v:.4f}', color='black', ha='center', fontweight='bold', fontsize=12)\n",
        "\n",
        "plt.ylim(0, 1.0)  # Set y-axis limits from 0 to 1 for better visualization of metrics\n",
        "plt.grid(axis='y', linestyle='--', alpha=0.7)\n",
        "plt.show()\n"
      ],
      "metadata": {
        "colab": {
          "base_uri": "https://localhost:8080/",
          "height": 584
        },
        "id": "dZOyKEQgr0x8",
        "outputId": "3d5a12ef-5c9a-44d8-d97f-5ffc0ff68967"
      },
      "execution_count": null,
      "outputs": [
        {
          "output_type": "display_data",
          "data": {
            "text/plain": [
              "<Figure size 1000x600 with 1 Axes>"
            ],
            "image/png": "[encoded data removed]"
          },
          "metadata": {}
        }
      ]
    }
  ]
}